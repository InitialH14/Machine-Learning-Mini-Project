{
  "nbformat": 4,
  "nbformat_minor": 0,
  "metadata": {
    "colab": {
      "provenance": []
    },
    "kernelspec": {
      "name": "python3",
      "display_name": "Python 3"
    },
    "language_info": {
      "name": "python"
    }
  },
  "cells": [
    {
      "cell_type": "markdown",
      "source": [
        "# Setup Environment"
      ],
      "metadata": {
        "id": "28MYLtW1YODT"
      }
    },
    {
      "cell_type": "code",
      "execution_count": null,
      "metadata": {
        "colab": {
          "base_uri": "https://localhost:8080/"
        },
        "id": "-IdRhthAGudY",
        "outputId": "319cff08-698f-452b-8613-8a64834f0715"
      },
      "outputs": [
        {
          "output_type": "stream",
          "name": "stdout",
          "text": [
            "Collecting rasterio\n",
            "  Downloading rasterio-1.4.3-cp311-cp311-manylinux_2_17_x86_64.manylinux2014_x86_64.whl.metadata (9.1 kB)\n",
            "Requirement already satisfied: geopandas in /usr/local/lib/python3.11/dist-packages (1.1.1)\n",
            "Collecting rasterstats\n",
            "  Downloading rasterstats-0.20.0-py3-none-any.whl.metadata (4.2 kB)\n",
            "Collecting affine (from rasterio)\n",
            "  Downloading affine-2.4.0-py3-none-any.whl.metadata (4.0 kB)\n",
            "Requirement already satisfied: attrs in /usr/local/lib/python3.11/dist-packages (from rasterio) (25.3.0)\n",
            "Requirement already satisfied: certifi in /usr/local/lib/python3.11/dist-packages (from rasterio) (2025.8.3)\n",
            "Requirement already satisfied: click>=4.0 in /usr/local/lib/python3.11/dist-packages (from rasterio) (8.2.1)\n",
            "Collecting cligj>=0.5 (from rasterio)\n",
            "  Downloading cligj-0.7.2-py3-none-any.whl.metadata (5.0 kB)\n",
            "Requirement already satisfied: numpy>=1.24 in /usr/local/lib/python3.11/dist-packages (from rasterio) (2.0.2)\n",
            "Collecting click-plugins (from rasterio)\n",
            "  Downloading click_plugins-1.1.1.2-py2.py3-none-any.whl.metadata (6.5 kB)\n",
            "Requirement already satisfied: pyparsing in /usr/local/lib/python3.11/dist-packages (from rasterio) (3.2.3)\n",
            "Requirement already satisfied: pyogrio>=0.7.2 in /usr/local/lib/python3.11/dist-packages (from geopandas) (0.11.1)\n",
            "Requirement already satisfied: packaging in /usr/local/lib/python3.11/dist-packages (from geopandas) (25.0)\n",
            "Requirement already satisfied: pandas>=2.0.0 in /usr/local/lib/python3.11/dist-packages (from geopandas) (2.2.2)\n",
            "Requirement already satisfied: pyproj>=3.5.0 in /usr/local/lib/python3.11/dist-packages (from geopandas) (3.7.1)\n",
            "Requirement already satisfied: shapely>=2.0.0 in /usr/local/lib/python3.11/dist-packages (from geopandas) (2.1.1)\n",
            "Collecting fiona (from rasterstats)\n",
            "  Downloading fiona-1.10.1-cp311-cp311-manylinux_2_17_x86_64.manylinux2014_x86_64.whl.metadata (56 kB)\n",
            "\u001b[2K     \u001b[90m━━━━━━━━━━━━━━━━━━━━━━━━━━━━━━━━━━━━━━━━\u001b[0m \u001b[32m56.6/56.6 kB\u001b[0m \u001b[31m3.4 MB/s\u001b[0m eta \u001b[36m0:00:00\u001b[0m\n",
            "\u001b[?25hRequirement already satisfied: simplejson in /usr/local/lib/python3.11/dist-packages (from rasterstats) (3.20.1)\n",
            "Requirement already satisfied: python-dateutil>=2.8.2 in /usr/local/lib/python3.11/dist-packages (from pandas>=2.0.0->geopandas) (2.9.0.post0)\n",
            "Requirement already satisfied: pytz>=2020.1 in /usr/local/lib/python3.11/dist-packages (from pandas>=2.0.0->geopandas) (2025.2)\n",
            "Requirement already satisfied: tzdata>=2022.7 in /usr/local/lib/python3.11/dist-packages (from pandas>=2.0.0->geopandas) (2025.2)\n",
            "Requirement already satisfied: six>=1.5 in /usr/local/lib/python3.11/dist-packages (from python-dateutil>=2.8.2->pandas>=2.0.0->geopandas) (1.17.0)\n",
            "Downloading rasterio-1.4.3-cp311-cp311-manylinux_2_17_x86_64.manylinux2014_x86_64.whl (22.2 MB)\n",
            "\u001b[2K   \u001b[90m━━━━━━━━━━━━━━━━━━━━━━━━━━━━━━━━━━━━━━━━\u001b[0m \u001b[32m22.2/22.2 MB\u001b[0m \u001b[31m36.3 MB/s\u001b[0m eta \u001b[36m0:00:00\u001b[0m\n",
            "\u001b[?25hDownloading rasterstats-0.20.0-py3-none-any.whl (17 kB)\n",
            "Downloading cligj-0.7.2-py3-none-any.whl (7.1 kB)\n",
            "Downloading affine-2.4.0-py3-none-any.whl (15 kB)\n",
            "Downloading click_plugins-1.1.1.2-py2.py3-none-any.whl (11 kB)\n",
            "Downloading fiona-1.10.1-cp311-cp311-manylinux_2_17_x86_64.manylinux2014_x86_64.whl (17.3 MB)\n",
            "\u001b[2K   \u001b[90m━━━━━━━━━━━━━━━━━━━━━━━━━━━━━━━━━━━━━━━━\u001b[0m \u001b[32m17.3/17.3 MB\u001b[0m \u001b[31m47.9 MB/s\u001b[0m eta \u001b[36m0:00:00\u001b[0m\n",
            "\u001b[?25hInstalling collected packages: cligj, click-plugins, affine, rasterio, fiona, rasterstats\n",
            "Successfully installed affine-2.4.0 click-plugins-1.1.1.2 cligj-0.7.2 fiona-1.10.1 rasterio-1.4.3 rasterstats-0.20.0\n"
          ]
        }
      ],
      "source": [
        "!pip install rasterio geopandas rasterstats"
      ]
    },
    {
      "cell_type": "code",
      "source": [
        "import numpy as np\n",
        "import pandas as pd\n",
        "import rasterio\n",
        "from rasterio.mask import mask\n",
        "import geopandas as gpd\n",
        "import matplotlib.pyplot as plt\n",
        "from rasterstats import zonal_stats\n",
        "from sklearn.model_selection import train_test_split\n",
        "from sklearn.model_selection import KFold, cross_val_score\n",
        "from sklearn.ensemble import RandomForestClassifier\n",
        "from sklearn.metrics import accuracy_score, classification_report\n",
        "from sklearn.metrics import confusion_matrix\n",
        "import seaborn as sns\n",
        "import joblib"
      ],
      "metadata": {
        "id": "dabY611eG0FA"
      },
      "execution_count": null,
      "outputs": []
    },
    {
      "cell_type": "code",
      "source": [
        "from google.colab import drive\n",
        "drive.mount('/content/drive')"
      ],
      "metadata": {
        "colab": {
          "base_uri": "https://localhost:8080/"
        },
        "id": "vxmbPQkgG4q1",
        "outputId": "8a351f9b-167f-4901-9643-1292729d56f8"
      },
      "execution_count": null,
      "outputs": [
        {
          "output_type": "stream",
          "name": "stdout",
          "text": [
            "Drive already mounted at /content/drive; to attempt to forcibly remount, call drive.mount(\"/content/drive\", force_remount=True).\n"
          ]
        }
      ]
    },
    {
      "cell_type": "markdown",
      "source": [
        "# Vegetation Indices Extraction"
      ],
      "metadata": {
        "id": "7fBSdZfQYUEh"
      }
    },
    {
      "cell_type": "markdown",
      "source": [
        "**Catatan:**\n",
        "\n",
        "File .tif pada notebook merupakan hasil pengambilan citra di GEE yang telah digabung dengan shapefile per daerah.\n",
        "\n",
        "Berikut link snapshot GEE code editor: https://code.earthengine.google.com/e2f7355f785bc9b5a092acba04bf8b33"
      ],
      "metadata": {
        "id": "tTchF3x_0XW3"
      }
    },
    {
      "cell_type": "code",
      "source": [
        "file_path = [\n",
        "    {'citra': '/content/drive/MyDrive/GEE_Exports_Jabar/sentinel2_BANGKALAN.tif', 'lahan': '/content/drive/MyDrive/deteksi stres tanaman/shapefile_bangkalan/AGRILADANG_AR_25K.shp', 'nama': 'Bangkalan'},\n",
        "    {'citra': '/content/drive/MyDrive/GEE_Exports_Jabar/sentinel2_BATU.tif', 'lahan': '/content/drive/MyDrive/deteksi stres tanaman/shapefile_batu/AGRILADANG_AR_25K.shp', 'nama': 'Batu'},\n",
        "    {'citra': '/content/drive/MyDrive/GEE_Exports_Jabar/sentinel2_BLITAR.tif', 'lahan': '/content/drive/MyDrive/deteksi stres tanaman/shapefile_blitar/AGRILADANG_AR_25K.shp', 'nama': 'Blitar'},\n",
        "    {'citra': '/content/drive/MyDrive/GEE_Exports_Jabar/sentinel2_BLITAR_KOTA.tif', 'lahan': '/content/drive/MyDrive/deteksi stres tanaman/shapefile_blitar_kota/AGRILADANG_AR_25K.shp', 'nama': 'Blitar_Kota'},\n",
        "    {'citra': '/content/drive/MyDrive/GEE_Exports_Jabar/sentinel2_BOJONEGORO.tif', 'lahan': '/content/drive/MyDrive/deteksi stres tanaman/shapefile_bojonegoro/AGRILADANG_AR_25K.shp', 'nama': 'Bojonegoro'},\n",
        "    {'citra': '/content/drive/MyDrive/GEE_Exports_Jabar/sentinel2_BONDOWOSO.tif', 'lahan': '/content/drive/MyDrive/deteksi stres tanaman/shapefile_bondowoso/AGRILADANG_AR_25K.shp', 'nama': 'Bondowoso'},\n",
        "    {'citra': '/content/drive/MyDrive/GEE_Exports_Jabar/sentinel2_JEMBER.tif', 'lahan': '/content/drive/MyDrive/deteksi stres tanaman/shapefile_jember/AGRILADANG_AR_25K.shp', 'nama': 'Jember'},\n",
        "    {'citra': '/content/drive/MyDrive/GEE_Exports_Jabar/sentinel2_JOMBANG.tif', 'lahan': '/content/drive/MyDrive/deteksi stres tanaman/shapefile_jombang/AGRILADANG_AR_25K.shp', 'nama': 'Jombang'},\n",
        "    {'citra': '/content/drive/MyDrive/GEE_Exports_Jabar/sentinel2_KEDIRI.tif', 'lahan': '/content/drive/MyDrive/deteksi stres tanaman/shapefile_kediri/AGRILADANG_AR_25K.shp', 'nama': 'Kediri'},\n",
        "    {'citra': '/content/drive/MyDrive/GEE_Exports_Jabar/sentinel2_KEDIRI_KOTA.tif', 'lahan': '/content/drive/MyDrive/deteksi stres tanaman/shapefile_kediri_kota/AGRILADANG_AR_25K.shp', 'nama': 'Kediri_Kota'},\n",
        "    {'citra': '/content/drive/MyDrive/GEE_Exports_Jabar/sentinel2_LAMONGAN.tif', 'lahan': '/content/drive/MyDrive/deteksi stres tanaman/shapefile_lamongan/AGRILADANG_AR_25K.shp', 'nama': 'Lamongan'},\n",
        "    {'citra': '/content/drive/MyDrive/GEE_Exports_Jabar/sentinel2_LUMAJANG.tif', 'lahan': '/content/drive/MyDrive/deteksi stres tanaman/shapefile_lumajang/AGRILADANG_AR_25K.shp', 'nama': 'Lumajang'},\n",
        "    {'citra': '/content/drive/MyDrive/GEE_Exports_Jabar/sentinel2_MADIUN.tif', 'lahan': '/content/drive/MyDrive/deteksi stres tanaman/shapefile_madiun/AGRILADANG_AR_25K.shp', 'nama': 'Madiun'},\n",
        "    {'citra': '/content/drive/MyDrive/GEE_Exports_Jabar/sentinel2_MADIUN_KOTA.tif', 'lahan': '/content/drive/MyDrive/deteksi stres tanaman/shapefile_madiun_kota/AGRILADANG_AR_25K.shp', 'nama': 'Madiun_Kota'},\n",
        "    {'citra': '/content/drive/MyDrive/GEE_Exports_Jabar/sentinel2_MAGETAN.tif', 'lahan': '/content/drive/MyDrive/deteksi stres tanaman/shapefile_magetan/AGRILADANG_AR_25K.shp', 'nama': 'Magetan'},\n",
        "    {'citra': '/content/drive/MyDrive/GEE_Exports_Jabar/sentinel2_MALANG.tif', 'lahan': '/content/drive/MyDrive/deteksi stres tanaman/shapefile_malang/AGRILADANG_AR_25K.shp', 'nama': 'Malang'},\n",
        "    {'citra': '/content/drive/MyDrive/GEE_Exports_Jabar/sentinel2_MALANG_KOTA.tif', 'lahan': '/content/drive/MyDrive/deteksi stres tanaman/shapefile_malang_kota/AGRILADANG_AR_25K.shp', 'nama': 'Malang_Kota'},\n",
        "    {'citra': '/content/drive/MyDrive/GEE_Exports_Jabar/sentinel2_MOJOKERTO.tif', 'lahan': '/content/drive/MyDrive/deteksi stres tanaman/shapefile_mojokerto/AGRILADANG_AR_25K.shp', 'nama': 'Mojokerto'},\n",
        "    {'citra': '/content/drive/MyDrive/GEE_Exports_Jabar/sentinel2_MOJOKERTO_KOTA.tif', 'lahan': '/content/drive/MyDrive/deteksi stres tanaman/shapefile_mojokerto_kota/AGRILADANG_AR_25K.shp', 'nama': 'Mojokerto_Kota'},\n",
        "    {'citra': '/content/drive/MyDrive/GEE_Exports_Jabar/sentinel2_NGANJUK.tif', 'lahan': '/content/drive/MyDrive/deteksi stres tanaman/shapefile_nganjuk/AGRILADANG_AR_25K.shp', 'nama': 'Nganjuk'},\n",
        "    {'citra': '/content/drive/MyDrive/GEE_Exports_Jabar/sentinel2_NGAWI.tif', 'lahan': '/content/drive/MyDrive/deteksi stres tanaman/shapefile_ngawi/AGRILADANG_AR_25K.shp', 'nama': 'Ngawi'},\n",
        "    {'citra': '/content/drive/MyDrive/GEE_Exports_Jabar/sentinel2_PACITAN.tif', 'lahan': '/content/drive/MyDrive/deteksi stres tanaman/shapefile_pacitan/AGRILADANG_AR_25K.shp', 'nama': 'Pacitan'},\n",
        "    {'citra': '/content/drive/MyDrive/GEE_Exports_Jabar/sentinel2_PAMEKASAN.tif', 'lahan': '/content/drive/MyDrive/deteksi stres tanaman/shapefile_pamekasan/AGRILADANG_AR_25K.shp', 'nama': 'Pamekasan'},\n",
        "    {'citra': '/content/drive/MyDrive/GEE_Exports_Jabar/sentinel2_PASURUAN.tif', 'lahan': '/content/drive/MyDrive/deteksi stres tanaman/shapefile_pasuruan/AGRILADANG_AR_25K.shp', 'nama': 'Pasuruan'},\n",
        "    {'citra': '/content/drive/MyDrive/GEE_Exports_Jabar/sentinel2_PASURUAN_KOTA.tif', 'lahan': '/content/drive/MyDrive/deteksi stres tanaman/shapefile_pasuruan_kota/AGRILADANG_AR_25K.shp', 'nama': 'Pasuruan_Kota'},\n",
        "    {'citra': '/content/drive/MyDrive/GEE_Exports_Jabar/sentinel2_PONOROGO.tif', 'lahan': '/content/drive/MyDrive/deteksi stres tanaman/shapefile_ponorogo/AGRILADANG_AR_25K.shp', 'nama': 'Ponorogo'},\n",
        "    {'citra': '/content/drive/MyDrive/GEE_Exports_Jabar/sentinel2_PROBOLINGGO.tif', 'lahan': '/content/drive/MyDrive/deteksi stres tanaman/shapefile_probolinggo/AGRILADANG_AR_25K.shp', 'nama': 'Probolinggo'},\n",
        "    {'citra': '/content/drive/MyDrive/GEE_Exports_Jabar/sentinel2_PROBOLINGGO_KOTA.tif', 'lahan': '/content/drive/MyDrive/deteksi stres tanaman/shapefile_probolinggo_kota/AGRILADANG_AR_25K.shp', 'nama': 'Probolinggo_Kota'},\n",
        "    {'citra': '/content/drive/MyDrive/GEE_Exports_Jabar/sentinel2_SAMPANG.tif', 'lahan': '/content/drive/MyDrive/deteksi stres tanaman/shapefile_sampang/AGRILADANG_AR_25K.shp', 'nama': 'Sampang'},\n",
        "    {'citra': '/content/drive/MyDrive/GEE_Exports_Jabar/sentinel2_SIDOARJO.tif', 'lahan': '/content/drive/MyDrive/deteksi stres tanaman/shapefile_sidoarjo/AGRILADANG_AR_25K.shp', 'nama': 'Sidoarjo'},\n",
        "    {'citra': '/content/drive/MyDrive/GEE_Exports_Jabar/sentinel2_SITUBONDO.tif', 'lahan': '/content/drive/MyDrive/deteksi stres tanaman/shapefile_situbondo/AGRILADANG_AR_25K.shp', 'nama': 'Situbondo'},\n",
        "    {'citra': '/content/drive/MyDrive/GEE_Exports_Jabar/sentinel2_SUMENEP-0000016384-0000000000.tif', 'lahan': '/content/drive/MyDrive/deteksi stres tanaman/shapefile_sumenep/AGRILADANG_AR_25K.shp', 'nama': 'Sumenep'},\n",
        "    {'citra': '/content/drive/MyDrive/GEE_Exports_Jabar/sentinel2_SURABAYA.tif', 'lahan': '/content/drive/MyDrive/deteksi stres tanaman/shapefile_surabaya/AGRILADANG_AR_25K.shp', 'nama': 'Surabaya'},\n",
        "    {'citra': '/content/drive/MyDrive/GEE_Exports_Jabar/sentinel2_TUBAN.tif', 'lahan': '/content/drive/MyDrive/deteksi stres tanaman/shapefile_tuban/AGRILADANG_AR_25K.shp', 'nama': 'Tuban'},\n",
        "    {'citra': '/content/drive/MyDrive/GEE_Exports_Jabar/sentinel2_TULUNGAGUNG.tif', 'lahan': '/content/drive/MyDrive/deteksi stres tanaman/shapefile_tulungagung/AGRILADANG_AR_25K.shp', 'nama': 'Tulungagung'},\n",
        "]"
      ],
      "metadata": {
        "id": "jonrcrHS_xP9"
      },
      "execution_count": null,
      "outputs": []
    },
    {
      "cell_type": "code",
      "source": [
        "list_of_dfs = []"
      ],
      "metadata": {
        "id": "iFqokyrOAlS7"
      },
      "execution_count": null,
      "outputs": []
    },
    {
      "cell_type": "code",
      "source": [
        "SAMPEL_PER_WILAYAH = 2500\n",
        "\n",
        "for paths in file_path:\n",
        "    print(f\"\\n--- Memproses wilayah: {paths['nama']} ---\")\n",
        "\n",
        "    try:\n",
        "        with rasterio.open(paths['citra']) as src_citra:\n",
        "            gdf_lahan = gpd.read_file(paths['lahan'])\n",
        "\n",
        "            if gdf_lahan.crs != src_citra.crs:\n",
        "                gdf_lahan = gdf_lahan.to_crs(src_citra.crs)\n",
        "\n",
        "            red = src_citra.read(1).astype('float32')\n",
        "            red_edge = src_citra.read(2).astype('float32')\n",
        "            nir = src_citra.read(3).astype('float32')\n",
        "            swir = src_citra.read(4).astype('float32')\n",
        "\n",
        "            np.seterr(divide='ignore', invalid='ignore')\n",
        "            ndvi = np.nan_to_num((nir - red) / (nir + red))\n",
        "            ndre = np.nan_to_num((nir - red_edge) / (nir + red_edge))\n",
        "            ndmi = np.nan_to_num((nir - swir) / (nir + swir))\n",
        "\n",
        "            peta_aturan = np.full(ndvi.shape, 1, dtype=np.int16)\n",
        "            peta_aturan = np.where((ndvi > 0.75) & (ndre > 0.5) & (ndmi > 0.4), 2, peta_aturan)\n",
        "            peta_aturan = np.where(ndvi < 0.2, 0, peta_aturan)\n",
        "\n",
        "            fitur_lengkap = np.stack([ndvi, ndre, ndmi])\n",
        "\n",
        "            mask_lahan, _, _ = rasterio.mask.raster_geometry_mask(src_citra, gdf_lahan.geometry, invert=True)\n",
        "\n",
        "            row_coords, col_coords = np.where(mask_lahan)\n",
        "\n",
        "            num_sampel_valid = min(SAMPEL_PER_WILAYAH, len(row_coords))\n",
        "            random_indices = np.random.choice(len(row_coords), num_sampel_valid, replace=False)\n",
        "\n",
        "            sampel_rows = row_coords[random_indices]\n",
        "            sampel_cols = col_coords[random_indices]\n",
        "\n",
        "            labels = peta_aturan[sampel_rows, sampel_cols]\n",
        "            fitur_sampel = fitur_lengkap[:, sampel_rows, sampel_cols].T\n",
        "\n",
        "            df_district = pd.DataFrame(fitur_sampel, columns=['NDVI', 'NDRE', 'NDMI'])\n",
        "            df_district['stress_class'] = labels\n",
        "\n",
        "            list_of_dfs.append(df_district)\n",
        "            print(f\"Selesai memproses {paths['nama']}, ditemukan {len(df_district)} sampel piksel.\")\n",
        "\n",
        "    except Exception as e:\n",
        "        print(f\"Gagal memproses {paths['nama']}: {e}\")"
      ],
      "metadata": {
        "colab": {
          "base_uri": "https://localhost:8080/"
        },
        "id": "20ZcoGFFAoHz",
        "outputId": "8cacba27-825b-48ae-c685-0b08d7161c01"
      },
      "execution_count": null,
      "outputs": [
        {
          "output_type": "stream",
          "name": "stdout",
          "text": [
            "\n",
            "--- Memproses wilayah: Bangkalan ---\n",
            "Selesai memproses Bangkalan, ditemukan 2500 sampel piksel.\n",
            "\n",
            "--- Memproses wilayah: Batu ---\n"
          ]
        },
        {
          "output_type": "stream",
          "name": "stderr",
          "text": [
            "/usr/local/lib/python3.11/dist-packages/rasterio/mask.py:88: UserWarning: shapes are outside bounds of raster. Are they in different coordinate reference systems?\n",
            "  warnings.warn('shapes are outside bounds of raster. '\n"
          ]
        },
        {
          "output_type": "stream",
          "name": "stdout",
          "text": [
            "Selesai memproses Batu, ditemukan 0 sampel piksel.\n",
            "\n",
            "--- Memproses wilayah: Blitar ---\n",
            "Selesai memproses Blitar, ditemukan 2500 sampel piksel.\n",
            "\n",
            "--- Memproses wilayah: Blitar_Kota ---\n",
            "Selesai memproses Blitar_Kota, ditemukan 2500 sampel piksel.\n",
            "\n",
            "--- Memproses wilayah: Bojonegoro ---\n",
            "Selesai memproses Bojonegoro, ditemukan 2500 sampel piksel.\n",
            "\n",
            "--- Memproses wilayah: Bondowoso ---\n",
            "Selesai memproses Bondowoso, ditemukan 2500 sampel piksel.\n",
            "\n",
            "--- Memproses wilayah: Jember ---\n",
            "Selesai memproses Jember, ditemukan 2500 sampel piksel.\n",
            "\n",
            "--- Memproses wilayah: Jombang ---\n",
            "Selesai memproses Jombang, ditemukan 2500 sampel piksel.\n",
            "\n",
            "--- Memproses wilayah: Kediri ---\n",
            "Selesai memproses Kediri, ditemukan 2500 sampel piksel.\n",
            "\n",
            "--- Memproses wilayah: Kediri_Kota ---\n",
            "Selesai memproses Kediri_Kota, ditemukan 2500 sampel piksel.\n",
            "\n",
            "--- Memproses wilayah: Lamongan ---\n"
          ]
        },
        {
          "output_type": "stream",
          "name": "stderr",
          "text": [
            "/usr/local/lib/python3.11/dist-packages/rasterio/mask.py:88: UserWarning: shapes are outside bounds of raster. Are they in different coordinate reference systems?\n",
            "  warnings.warn('shapes are outside bounds of raster. '\n"
          ]
        },
        {
          "output_type": "stream",
          "name": "stdout",
          "text": [
            "Selesai memproses Lamongan, ditemukan 0 sampel piksel.\n",
            "\n",
            "--- Memproses wilayah: Lumajang ---\n",
            "Selesai memproses Lumajang, ditemukan 2500 sampel piksel.\n",
            "\n",
            "--- Memproses wilayah: Madiun ---\n",
            "Selesai memproses Madiun, ditemukan 2500 sampel piksel.\n",
            "\n",
            "--- Memproses wilayah: Madiun_Kota ---\n",
            "Selesai memproses Madiun_Kota, ditemukan 2500 sampel piksel.\n",
            "\n",
            "--- Memproses wilayah: Magetan ---\n",
            "Selesai memproses Magetan, ditemukan 2500 sampel piksel.\n",
            "\n",
            "--- Memproses wilayah: Malang ---\n",
            "Selesai memproses Malang, ditemukan 2500 sampel piksel.\n",
            "\n",
            "--- Memproses wilayah: Malang_Kota ---\n",
            "Selesai memproses Malang_Kota, ditemukan 2500 sampel piksel.\n",
            "\n",
            "--- Memproses wilayah: Mojokerto ---\n",
            "Selesai memproses Mojokerto, ditemukan 2500 sampel piksel.\n",
            "\n",
            "--- Memproses wilayah: Mojokerto_Kota ---\n",
            "Selesai memproses Mojokerto_Kota, ditemukan 2500 sampel piksel.\n",
            "\n",
            "--- Memproses wilayah: Nganjuk ---\n",
            "Selesai memproses Nganjuk, ditemukan 2500 sampel piksel.\n",
            "\n",
            "--- Memproses wilayah: Ngawi ---\n",
            "Selesai memproses Ngawi, ditemukan 2500 sampel piksel.\n",
            "\n",
            "--- Memproses wilayah: Pacitan ---\n",
            "Selesai memproses Pacitan, ditemukan 2500 sampel piksel.\n",
            "\n",
            "--- Memproses wilayah: Pamekasan ---\n",
            "Selesai memproses Pamekasan, ditemukan 2500 sampel piksel.\n",
            "\n",
            "--- Memproses wilayah: Pasuruan ---\n",
            "Selesai memproses Pasuruan, ditemukan 2500 sampel piksel.\n",
            "\n",
            "--- Memproses wilayah: Pasuruan_Kota ---\n",
            "Selesai memproses Pasuruan_Kota, ditemukan 121 sampel piksel.\n",
            "\n",
            "--- Memproses wilayah: Ponorogo ---\n",
            "Selesai memproses Ponorogo, ditemukan 2500 sampel piksel.\n",
            "\n",
            "--- Memproses wilayah: Probolinggo ---\n",
            "Selesai memproses Probolinggo, ditemukan 2500 sampel piksel.\n",
            "\n",
            "--- Memproses wilayah: Probolinggo_Kota ---\n",
            "Selesai memproses Probolinggo_Kota, ditemukan 2500 sampel piksel.\n",
            "\n",
            "--- Memproses wilayah: Sampang ---\n",
            "Selesai memproses Sampang, ditemukan 2500 sampel piksel.\n",
            "\n",
            "--- Memproses wilayah: Sidoarjo ---\n",
            "Selesai memproses Sidoarjo, ditemukan 2500 sampel piksel.\n",
            "\n",
            "--- Memproses wilayah: Situbondo ---\n",
            "Selesai memproses Situbondo, ditemukan 2500 sampel piksel.\n",
            "\n",
            "--- Memproses wilayah: Sumenep ---\n",
            "Selesai memproses Sumenep, ditemukan 2500 sampel piksel.\n",
            "\n",
            "--- Memproses wilayah: Surabaya ---\n",
            "Selesai memproses Surabaya, ditemukan 2500 sampel piksel.\n",
            "\n",
            "--- Memproses wilayah: Tuban ---\n",
            "Selesai memproses Tuban, ditemukan 2500 sampel piksel.\n",
            "\n",
            "--- Memproses wilayah: Tulungagung ---\n",
            "Selesai memproses Tulungagung, ditemukan 2500 sampel piksel.\n"
          ]
        }
      ]
    },
    {
      "cell_type": "markdown",
      "source": [
        "# Splitting Data"
      ],
      "metadata": {
        "id": "8yaHuMjD0_H1"
      }
    },
    {
      "cell_type": "code",
      "source": [
        "df_train = pd.concat(list_of_dfs, ignore_index=True)\n",
        "df_train.dropna(inplace=True)\n",
        "\n",
        "print(f\"Total sampel terkumpul dari semua wilayah: {len(df_train)}\")\n",
        "\n",
        "df_train.head()"
      ],
      "metadata": {
        "colab": {
          "base_uri": "https://localhost:8080/",
          "height": 224
        },
        "id": "u_q4D7xTBfOK",
        "outputId": "42fe3d60-d408-4915-f9d7-3df76357120e"
      },
      "execution_count": null,
      "outputs": [
        {
          "output_type": "stream",
          "name": "stdout",
          "text": [
            "Total sampel terkumpul dari semua wilayah: 80121\n"
          ]
        },
        {
          "output_type": "execute_result",
          "data": {
            "text/plain": [
              "       NDVI      NDRE      NDMI  stress_class\n",
              "0  0.500588  0.304907  0.015916             1\n",
              "1  0.667622  0.437747  0.039471             1\n",
              "2  0.520861  0.325125 -0.052212             1\n",
              "3  0.698754  0.454898  0.154734             1\n",
              "4  0.400778  0.230769 -0.055472             1"
            ],
            "text/html": [
              "\n",
              "  <div id=\"df-8555ca76-60da-4321-bf11-4d36472086a5\" class=\"colab-df-container\">\n",
              "    <div>\n",
              "<style scoped>\n",
              "    .dataframe tbody tr th:only-of-type {\n",
              "        vertical-align: middle;\n",
              "    }\n",
              "\n",
              "    .dataframe tbody tr th {\n",
              "        vertical-align: top;\n",
              "    }\n",
              "\n",
              "    .dataframe thead th {\n",
              "        text-align: right;\n",
              "    }\n",
              "</style>\n",
              "<table border=\"1\" class=\"dataframe\">\n",
              "  <thead>\n",
              "    <tr style=\"text-align: right;\">\n",
              "      <th></th>\n",
              "      <th>NDVI</th>\n",
              "      <th>NDRE</th>\n",
              "      <th>NDMI</th>\n",
              "      <th>stress_class</th>\n",
              "    </tr>\n",
              "  </thead>\n",
              "  <tbody>\n",
              "    <tr>\n",
              "      <th>0</th>\n",
              "      <td>0.500588</td>\n",
              "      <td>0.304907</td>\n",
              "      <td>0.015916</td>\n",
              "      <td>1</td>\n",
              "    </tr>\n",
              "    <tr>\n",
              "      <th>1</th>\n",
              "      <td>0.667622</td>\n",
              "      <td>0.437747</td>\n",
              "      <td>0.039471</td>\n",
              "      <td>1</td>\n",
              "    </tr>\n",
              "    <tr>\n",
              "      <th>2</th>\n",
              "      <td>0.520861</td>\n",
              "      <td>0.325125</td>\n",
              "      <td>-0.052212</td>\n",
              "      <td>1</td>\n",
              "    </tr>\n",
              "    <tr>\n",
              "      <th>3</th>\n",
              "      <td>0.698754</td>\n",
              "      <td>0.454898</td>\n",
              "      <td>0.154734</td>\n",
              "      <td>1</td>\n",
              "    </tr>\n",
              "    <tr>\n",
              "      <th>4</th>\n",
              "      <td>0.400778</td>\n",
              "      <td>0.230769</td>\n",
              "      <td>-0.055472</td>\n",
              "      <td>1</td>\n",
              "    </tr>\n",
              "  </tbody>\n",
              "</table>\n",
              "</div>\n",
              "    <div class=\"colab-df-buttons\">\n",
              "\n",
              "  <div class=\"colab-df-container\">\n",
              "    <button class=\"colab-df-convert\" onclick=\"convertToInteractive('df-8555ca76-60da-4321-bf11-4d36472086a5')\"\n",
              "            title=\"Convert this dataframe to an interactive table.\"\n",
              "            style=\"display:none;\">\n",
              "\n",
              "  <svg xmlns=\"http://www.w3.org/2000/svg\" height=\"24px\" viewBox=\"0 -960 960 960\">\n",
              "    <path d=\"M120-120v-720h720v720H120Zm60-500h600v-160H180v160Zm220 220h160v-160H400v160Zm0 220h160v-160H400v160ZM180-400h160v-160H180v160Zm440 0h160v-160H620v160ZM180-180h160v-160H180v160Zm440 0h160v-160H620v160Z\"/>\n",
              "  </svg>\n",
              "    </button>\n",
              "\n",
              "  <style>\n",
              "    .colab-df-container {\n",
              "      display:flex;\n",
              "      gap: 12px;\n",
              "    }\n",
              "\n",
              "    .colab-df-convert {\n",
              "      background-color: #E8F0FE;\n",
              "      border: none;\n",
              "      border-radius: 50%;\n",
              "      cursor: pointer;\n",
              "      display: none;\n",
              "      fill: #1967D2;\n",
              "      height: 32px;\n",
              "      padding: 0 0 0 0;\n",
              "      width: 32px;\n",
              "    }\n",
              "\n",
              "    .colab-df-convert:hover {\n",
              "      background-color: #E2EBFA;\n",
              "      box-shadow: 0px 1px 2px rgba(60, 64, 67, 0.3), 0px 1px 3px 1px rgba(60, 64, 67, 0.15);\n",
              "      fill: #174EA6;\n",
              "    }\n",
              "\n",
              "    .colab-df-buttons div {\n",
              "      margin-bottom: 4px;\n",
              "    }\n",
              "\n",
              "    [theme=dark] .colab-df-convert {\n",
              "      background-color: #3B4455;\n",
              "      fill: #D2E3FC;\n",
              "    }\n",
              "\n",
              "    [theme=dark] .colab-df-convert:hover {\n",
              "      background-color: #434B5C;\n",
              "      box-shadow: 0px 1px 3px 1px rgba(0, 0, 0, 0.15);\n",
              "      filter: drop-shadow(0px 1px 2px rgba(0, 0, 0, 0.3));\n",
              "      fill: #FFFFFF;\n",
              "    }\n",
              "  </style>\n",
              "\n",
              "    <script>\n",
              "      const buttonEl =\n",
              "        document.querySelector('#df-8555ca76-60da-4321-bf11-4d36472086a5 button.colab-df-convert');\n",
              "      buttonEl.style.display =\n",
              "        google.colab.kernel.accessAllowed ? 'block' : 'none';\n",
              "\n",
              "      async function convertToInteractive(key) {\n",
              "        const element = document.querySelector('#df-8555ca76-60da-4321-bf11-4d36472086a5');\n",
              "        const dataTable =\n",
              "          await google.colab.kernel.invokeFunction('convertToInteractive',\n",
              "                                                    [key], {});\n",
              "        if (!dataTable) return;\n",
              "\n",
              "        const docLinkHtml = 'Like what you see? Visit the ' +\n",
              "          '<a target=\"_blank\" href=https://colab.research.google.com/notebooks/data_table.ipynb>data table notebook</a>'\n",
              "          + ' to learn more about interactive tables.';\n",
              "        element.innerHTML = '';\n",
              "        dataTable['output_type'] = 'display_data';\n",
              "        await google.colab.output.renderOutput(dataTable, element);\n",
              "        const docLink = document.createElement('div');\n",
              "        docLink.innerHTML = docLinkHtml;\n",
              "        element.appendChild(docLink);\n",
              "      }\n",
              "    </script>\n",
              "  </div>\n",
              "\n",
              "\n",
              "    <div id=\"df-d314b23d-d652-4d35-aa74-02e0c7fe677e\">\n",
              "      <button class=\"colab-df-quickchart\" onclick=\"quickchart('df-d314b23d-d652-4d35-aa74-02e0c7fe677e')\"\n",
              "                title=\"Suggest charts\"\n",
              "                style=\"display:none;\">\n",
              "\n",
              "<svg xmlns=\"http://www.w3.org/2000/svg\" height=\"24px\"viewBox=\"0 0 24 24\"\n",
              "     width=\"24px\">\n",
              "    <g>\n",
              "        <path d=\"M19 3H5c-1.1 0-2 .9-2 2v14c0 1.1.9 2 2 2h14c1.1 0 2-.9 2-2V5c0-1.1-.9-2-2-2zM9 17H7v-7h2v7zm4 0h-2V7h2v10zm4 0h-2v-4h2v4z\"/>\n",
              "    </g>\n",
              "</svg>\n",
              "      </button>\n",
              "\n",
              "<style>\n",
              "  .colab-df-quickchart {\n",
              "      --bg-color: #E8F0FE;\n",
              "      --fill-color: #1967D2;\n",
              "      --hover-bg-color: #E2EBFA;\n",
              "      --hover-fill-color: #174EA6;\n",
              "      --disabled-fill-color: #AAA;\n",
              "      --disabled-bg-color: #DDD;\n",
              "  }\n",
              "\n",
              "  [theme=dark] .colab-df-quickchart {\n",
              "      --bg-color: #3B4455;\n",
              "      --fill-color: #D2E3FC;\n",
              "      --hover-bg-color: #434B5C;\n",
              "      --hover-fill-color: #FFFFFF;\n",
              "      --disabled-bg-color: #3B4455;\n",
              "      --disabled-fill-color: #666;\n",
              "  }\n",
              "\n",
              "  .colab-df-quickchart {\n",
              "    background-color: var(--bg-color);\n",
              "    border: none;\n",
              "    border-radius: 50%;\n",
              "    cursor: pointer;\n",
              "    display: none;\n",
              "    fill: var(--fill-color);\n",
              "    height: 32px;\n",
              "    padding: 0;\n",
              "    width: 32px;\n",
              "  }\n",
              "\n",
              "  .colab-df-quickchart:hover {\n",
              "    background-color: var(--hover-bg-color);\n",
              "    box-shadow: 0 1px 2px rgba(60, 64, 67, 0.3), 0 1px 3px 1px rgba(60, 64, 67, 0.15);\n",
              "    fill: var(--button-hover-fill-color);\n",
              "  }\n",
              "\n",
              "  .colab-df-quickchart-complete:disabled,\n",
              "  .colab-df-quickchart-complete:disabled:hover {\n",
              "    background-color: var(--disabled-bg-color);\n",
              "    fill: var(--disabled-fill-color);\n",
              "    box-shadow: none;\n",
              "  }\n",
              "\n",
              "  .colab-df-spinner {\n",
              "    border: 2px solid var(--fill-color);\n",
              "    border-color: transparent;\n",
              "    border-bottom-color: var(--fill-color);\n",
              "    animation:\n",
              "      spin 1s steps(1) infinite;\n",
              "  }\n",
              "\n",
              "  @keyframes spin {\n",
              "    0% {\n",
              "      border-color: transparent;\n",
              "      border-bottom-color: var(--fill-color);\n",
              "      border-left-color: var(--fill-color);\n",
              "    }\n",
              "    20% {\n",
              "      border-color: transparent;\n",
              "      border-left-color: var(--fill-color);\n",
              "      border-top-color: var(--fill-color);\n",
              "    }\n",
              "    30% {\n",
              "      border-color: transparent;\n",
              "      border-left-color: var(--fill-color);\n",
              "      border-top-color: var(--fill-color);\n",
              "      border-right-color: var(--fill-color);\n",
              "    }\n",
              "    40% {\n",
              "      border-color: transparent;\n",
              "      border-right-color: var(--fill-color);\n",
              "      border-top-color: var(--fill-color);\n",
              "    }\n",
              "    60% {\n",
              "      border-color: transparent;\n",
              "      border-right-color: var(--fill-color);\n",
              "    }\n",
              "    80% {\n",
              "      border-color: transparent;\n",
              "      border-right-color: var(--fill-color);\n",
              "      border-bottom-color: var(--fill-color);\n",
              "    }\n",
              "    90% {\n",
              "      border-color: transparent;\n",
              "      border-bottom-color: var(--fill-color);\n",
              "    }\n",
              "  }\n",
              "</style>\n",
              "\n",
              "      <script>\n",
              "        async function quickchart(key) {\n",
              "          const quickchartButtonEl =\n",
              "            document.querySelector('#' + key + ' button');\n",
              "          quickchartButtonEl.disabled = true;  // To prevent multiple clicks.\n",
              "          quickchartButtonEl.classList.add('colab-df-spinner');\n",
              "          try {\n",
              "            const charts = await google.colab.kernel.invokeFunction(\n",
              "                'suggestCharts', [key], {});\n",
              "          } catch (error) {\n",
              "            console.error('Error during call to suggestCharts:', error);\n",
              "          }\n",
              "          quickchartButtonEl.classList.remove('colab-df-spinner');\n",
              "          quickchartButtonEl.classList.add('colab-df-quickchart-complete');\n",
              "        }\n",
              "        (() => {\n",
              "          let quickchartButtonEl =\n",
              "            document.querySelector('#df-d314b23d-d652-4d35-aa74-02e0c7fe677e button');\n",
              "          quickchartButtonEl.style.display =\n",
              "            google.colab.kernel.accessAllowed ? 'block' : 'none';\n",
              "        })();\n",
              "      </script>\n",
              "    </div>\n",
              "\n",
              "    </div>\n",
              "  </div>\n"
            ],
            "application/vnd.google.colaboratory.intrinsic+json": {
              "type": "dataframe",
              "variable_name": "df_train",
              "summary": "{\n  \"name\": \"df_train\",\n  \"rows\": 80121,\n  \"fields\": [\n    {\n      \"column\": \"NDVI\",\n      \"properties\": {\n        \"dtype\": \"float32\",\n        \"num_unique_values\": 76580,\n        \"samples\": [\n          0.768281102180481,\n          0.415738970041275,\n          0.534432590007782\n        ],\n        \"semantic_type\": \"\",\n        \"description\": \"\"\n      }\n    },\n    {\n      \"column\": \"NDRE\",\n      \"properties\": {\n        \"dtype\": \"float32\",\n        \"num_unique_values\": 77284,\n        \"samples\": [\n          0.4942469894886017,\n          0.299401193857193,\n          0.5497240424156189\n        ],\n        \"semantic_type\": \"\",\n        \"description\": \"\"\n      }\n    },\n    {\n      \"column\": \"NDMI\",\n      \"properties\": {\n        \"dtype\": \"float32\",\n        \"num_unique_values\": 78230,\n        \"samples\": [\n          0.17601358890533447,\n          -0.016292797401547432,\n          0.1001090481877327\n        ],\n        \"semantic_type\": \"\",\n        \"description\": \"\"\n      }\n    },\n    {\n      \"column\": \"stress_class\",\n      \"properties\": {\n        \"dtype\": \"int16\",\n        \"num_unique_values\": 3,\n        \"samples\": [\n          1,\n          0,\n          2\n        ],\n        \"semantic_type\": \"\",\n        \"description\": \"\"\n      }\n    }\n  ]\n}"
            }
          },
          "metadata": {},
          "execution_count": 6
        }
      ]
    },
    {
      "cell_type": "code",
      "source": [
        "len(df_train[df_train['stress_class'] == 0])"
      ],
      "metadata": {
        "colab": {
          "base_uri": "https://localhost:8080/"
        },
        "id": "obx-VKPvwJyA",
        "outputId": "4186df0e-8b87-4408-f5a5-fc85496a68f1"
      },
      "execution_count": null,
      "outputs": [
        {
          "output_type": "execute_result",
          "data": {
            "text/plain": [
              "4043"
            ]
          },
          "metadata": {},
          "execution_count": 9
        }
      ]
    },
    {
      "cell_type": "markdown",
      "source": [
        "# Modelling"
      ],
      "metadata": {
        "id": "NqSxUOFUYbOd"
      }
    },
    {
      "cell_type": "code",
      "source": [
        "X = df_train.drop(columns=['stress_class'])\n",
        "y = df_train['stress_class']\n",
        "X_train, X_test, y_train, y_test = train_test_split(X, y, test_size=0.3, random_state=42)\n",
        "\n",
        "model = RandomForestClassifier(n_estimators=100, random_state=42)\n",
        "\n",
        "model.fit(X_train, y_train)\n",
        "y_pred = model.predict(X_test)\n",
        "\n",
        "print(f\"\\nAkurasi Model: {accuracy_score(y_test, y_pred) * 100:.2f}%\")\n",
        "print(\"\\nLaporan Klasifikasi:\\n\", classification_report(y_test, y_pred))"
      ],
      "metadata": {
        "colab": {
          "base_uri": "https://localhost:8080/"
        },
        "id": "__KKKBUUCEjA",
        "outputId": "7de46fe7-9f61-43fe-93d2-7d60fa19b017"
      },
      "execution_count": null,
      "outputs": [
        {
          "output_type": "stream",
          "name": "stdout",
          "text": [
            "\n",
            "Akurasi Model: 99.98%\n",
            "\n",
            "Laporan Klasifikasi:\n",
            "               precision    recall  f1-score   support\n",
            "\n",
            "           0       1.00      1.00      1.00      1253\n",
            "           1       1.00      1.00      1.00     22641\n",
            "           2       1.00      0.97      0.99       143\n",
            "\n",
            "    accuracy                           1.00     24037\n",
            "   macro avg       1.00      0.99      1.00     24037\n",
            "weighted avg       1.00      1.00      1.00     24037\n",
            "\n"
          ]
        }
      ]
    },
    {
      "cell_type": "code",
      "source": [
        "kfold = KFold(n_splits=5, shuffle=True, random_state=42)\n",
        "scores = cross_val_score(model, X, y, cv=kfold, scoring='accuracy')\n",
        "\n",
        "print(\"\\n================ HASIL CROSS-VALIDATION ================\")\n",
        "print(f\"Skor Akurasi untuk setiap fold: {scores}\")\n",
        "print(f\"Rata-rata Akurasi: {scores.mean():.4f}\")\n",
        "print(f\"Standar Deviasi Akurasi: {scores.std():.4f}\")"
      ],
      "metadata": {
        "colab": {
          "base_uri": "https://localhost:8080/"
        },
        "id": "5fbQbgdZCSP9",
        "outputId": "955da693-0f15-4b41-b85c-33ec882f4d02"
      },
      "execution_count": null,
      "outputs": [
        {
          "output_type": "stream",
          "name": "stdout",
          "text": [
            "\n",
            "================ HASIL CROSS-VALIDATION ================\n",
            "Skor Akurasi untuk setiap fold: [1.         1.         0.99981278 0.99993759 1.        ]\n",
            "Rata-rata Akurasi: 1.0000\n",
            "Standar Deviasi Akurasi: 0.0001\n"
          ]
        }
      ]
    },
    {
      "cell_type": "code",
      "source": [
        "class_names = ['Stress', 'Waspada', 'Sehat']\n",
        "cm = confusion_matrix(y_test, y_pred)\n",
        "\n",
        "plt.figure(figsize=(8, 6))\n",
        "sns.heatmap(cm, annot=True, fmt='d', cmap='Blues',\n",
        "            xticklabels=class_names, yticklabels=class_names)\n",
        "\n",
        "plt.title('Confusion Matrix - Random Forest Classifier')\n",
        "plt.ylabel('Label Sebenarnya (Actual)')\n",
        "plt.xlabel('Label Prediksi (Predicted)')\n",
        "\n",
        "plt.show()\n"
      ],
      "metadata": {
        "colab": {
          "base_uri": "https://localhost:8080/",
          "height": 564
        },
        "id": "krUV8YEyvrt-",
        "outputId": "be03a374-4956-4357-fc4c-d2b11c03bb0f"
      },
      "execution_count": null,
      "outputs": [
        {
          "output_type": "display_data",
          "data": {
            "text/plain": [
              "<Figure size 800x600 with 2 Axes>"
            ],
            "image/png": "[encoded data removed]"
          },
          "metadata": {}
        }
      ]
    },
    {
      "cell_type": "markdown",
      "source": [
        "# Testing"
      ],
      "metadata": {
        "id": "4kiPmgLeYdtn"
      }
    },
    {
      "cell_type": "markdown",
      "source": [
        "**Catatan** : \\\n",
        "File .tif pada sel berikut merupakan hasil pengambilan citra di GEE secara sembarang.\n",
        "\n",
        "Berikut link snapshot GEE code editor: https://code.earthengine.google.com/60b08819017076d4e2ec87e8077db056"
      ],
      "metadata": {
        "id": "EoeRHSU01MsC"
      }
    },
    {
      "cell_type": "code",
      "source": [
        "imagery_testing = '/content/drive/MyDrive/GEE_Exports_Inferensi/ladang_pilihan.tif'"
      ],
      "metadata": {
        "id": "GEpYq7f0Yf-y"
      },
      "execution_count": null,
      "outputs": []
    },
    {
      "cell_type": "code",
      "source": [
        "try:\n",
        "    with rasterio.open(imagery_testing) as src:\n",
        "        citra_array = src.read()\n",
        "        profile = src.profile\n",
        "except FileNotFoundError:\n",
        "    print(f\"Error: File citra tidak ditemukan di {imagery_testing}\")"
      ],
      "metadata": {
        "id": "XWqLp-EKY1NW"
      },
      "execution_count": null,
      "outputs": []
    },
    {
      "cell_type": "code",
      "source": [
        "b4_red = citra_array[2].astype('float32')\n",
        "b5_red_edge = citra_array[3].astype('float32')\n",
        "b8_nir = citra_array[6].astype('float32')\n",
        "b11_swir = citra_array[8].astype('float32')\n",
        "\n",
        "np.seterr(divide='ignore', invalid='ignore')\n",
        "\n",
        "ndvi = np.nan_to_num((b8_nir - b4_red) / (b8_nir + b4_red))\n",
        "ndre = np.nan_to_num((b8_nir - b5_red_edge) / (b8_nir + b5_red_edge))\n",
        "ndmi = np.nan_to_num((b8_nir - b11_swir) / (b8_nir + b11_swir))\n",
        "\n",
        "final_features = np.stack([\n",
        "    citra_array[0], citra_array[1], citra_array[2], citra_array[3],\n",
        "    citra_array[4], citra_array[5], citra_array[6], citra_array[7],\n",
        "    citra_array[8], citra_array[9],\n",
        "    ndvi, ndre, ndmi\n",
        "])"
      ],
      "metadata": {
        "id": "_6Ij3iT1Y-uX"
      },
      "execution_count": null,
      "outputs": []
    },
    {
      "cell_type": "code",
      "source": [
        "final_features.shape[0]"
      ],
      "metadata": {
        "colab": {
          "base_uri": "https://localhost:8080/"
        },
        "id": "4vXEgGXlaFxH",
        "outputId": "31a059e4-7fd5-45f3-8e99-7313d8691e3b"
      },
      "execution_count": null,
      "outputs": [
        {
          "output_type": "execute_result",
          "data": {
            "text/plain": [
              "13"
            ]
          },
          "metadata": {},
          "execution_count": 30
        }
      ]
    },
    {
      "cell_type": "code",
      "source": [
        "num_features, height, width = final_features.shape"
      ],
      "metadata": {
        "id": "-Vcb2xQfaMth"
      },
      "execution_count": null,
      "outputs": []
    },
    {
      "cell_type": "code",
      "source": [
        "features_reshaped = final_features.reshape(num_features, -1).T"
      ],
      "metadata": {
        "id": "9E5fnwwZaVLj"
      },
      "execution_count": null,
      "outputs": []
    },
    {
      "cell_type": "code",
      "source": [
        "features_for_prediction = final_features[-3:, :, :]\n",
        "\n",
        "num_features_pred, height_pred, width_pred = features_for_prediction.shape\n",
        "features_reshaped = features_for_prediction.reshape(num_features_pred, -1).T\n",
        "\n",
        "prediction = model.predict(features_reshaped)"
      ],
      "metadata": {
        "colab": {
          "base_uri": "https://localhost:8080/"
        },
        "id": "c7Pt8XfqakQO",
        "outputId": "40e1d2aa-fcf0-4fc4-8173-a571a6b1420e"
      },
      "execution_count": null,
      "outputs": [
        {
          "output_type": "stream",
          "name": "stderr",
          "text": [
            "/usr/local/lib/python3.11/dist-packages/sklearn/utils/validation.py:2739: UserWarning: X does not have valid feature names, but RandomForestClassifier was fitted with feature names\n",
            "  warnings.warn(\n"
          ]
        }
      ]
    },
    {
      "cell_type": "code",
      "source": [
        "map_prediction = prediction.reshape(height, width)\n",
        "\n",
        "plt.figure(figsize=(12, 12))\n",
        "\n",
        "cmap = plt.cm.colors.ListedColormap(['#d7191c', '#ffffbf', '#1a9641'])\n",
        "bounds = [-0.5, 0.5, 1.5, 2.5]\n",
        "norm = plt.cm.colors.BoundaryNorm(bounds, cmap.N)\n",
        "\n",
        "im = plt.imshow(map_prediction, cmap=cmap, norm=norm)\n",
        "\n",
        "cbar = plt.colorbar(im, ticks=[0, 1, 2], fraction=0.046, pad=0.04)\n",
        "cbar.ax.set_yticklabels(['Stres (0)', 'Waspada (1)', 'Sehat (2)'])\n",
        "cbar.set_label('Kelas Prediksi Stres', rotation=270, labelpad=20)\n",
        "\n",
        "plt.title('Peta Prediksi Stres Tanaman', fontsize=16)\n",
        "plt.axis('off')\n",
        "plt.show()"
      ],
      "metadata": {
        "colab": {
          "base_uri": "https://localhost:8080/",
          "height": 892
        },
        "id": "nWz73Oxbbfyp",
        "outputId": "70479e1f-3ff6-4f95-dba0-f2520068d960"
      },
      "execution_count": null,
      "outputs": [
        {
          "output_type": "display_data",
          "data": {
            "text/plain": [
              "<Figure size 1200x1200 with 2 Axes>"
            ],
            "image/png": "[encoded data removed]"
          },
          "metadata": {}
        }
      ]
    },
    {
      "cell_type": "code",
      "source": [
        "def normalize(array):\n",
        "    array_min, array_max = np.nanmin(array), np.nanmax(array)\n",
        "    return ((array - array_min) / (array_max - array_min))"
      ],
      "metadata": {
        "id": "y-TCY_91kjIL"
      },
      "execution_count": null,
      "outputs": []
    },
    {
      "cell_type": "code",
      "source": [
        "nir_band = citra_array[6]\n",
        "red_band = citra_array[2]\n",
        "green_band = citra_array[1]\n",
        "\n",
        "nir_norm = normalize(nir_band)\n",
        "red_norm = normalize(red_band)\n",
        "green_norm = normalize(green_band)"
      ],
      "metadata": {
        "id": "J9e_zprjkj-r"
      },
      "execution_count": null,
      "outputs": []
    },
    {
      "cell_type": "code",
      "source": [
        "false_color_composite = np.dstack((nir_norm, red_norm, green_norm))"
      ],
      "metadata": {
        "id": "5wWkYkRqkoOw"
      },
      "execution_count": null,
      "outputs": []
    },
    {
      "cell_type": "code",
      "source": [
        "print(\"Menampilkan Citra Asli (False-Color: NIR, Red, Green)\")\n",
        "plt.figure(figsize=(12, 12))\n",
        "plt.imshow(false_color_composite)\n",
        "plt.title('Citra Asli Ladang (False-Color)', fontsize=16)\n",
        "plt.axis('off')\n",
        "plt.show()"
      ],
      "metadata": {
        "colab": {
          "base_uri": "https://localhost:8080/",
          "height": 756
        },
        "id": "jcrOK4x2kqxa",
        "outputId": "50247ff9-3e64-43b1-de34-c6385c7a2a57"
      },
      "execution_count": null,
      "outputs": [
        {
          "output_type": "stream",
          "name": "stdout",
          "text": [
            "Menampilkan Citra Asli (False-Color: NIR, Red, Green)\n"
          ]
        },
        {
          "output_type": "display_data",
          "data": {
            "text/plain": [
              "<Figure size 1200x1200 with 1 Axes>"
            ],
            "image/png": "[encoded data removed]"
          },
          "metadata": {}
        }
      ]
    },
    {
      "cell_type": "code",
      "source": [
        "total_pixels = map_prediction.size\n",
        "stres_pixels = np.count_nonzero(map_prediction == 0)\n",
        "waspada_pixels = np.count_nonzero(map_prediction == 1)\n",
        "sehat_pixels = np.count_nonzero(map_prediction == 2)\n",
        "\n",
        "persen_stres = (stres_pixels / total_pixels) * 100\n",
        "persen_waspada = (waspada_pixels / total_pixels) * 100\n",
        "persen_sehat = (sehat_pixels / total_pixels) * 100\n",
        "\n",
        "kesimpulan = \"\"\n",
        "if persen_stres > 25:\n",
        "    kesimpulan = \"Kondisi lahan secara umum KRITIS, sebagian besar area terindikasi stres berat dan perlu penanganan segera.\"\n",
        "elif persen_stres > 10:\n",
        "    kesimpulan = \"Kondisi lahan secara umum PERLU PERHATIAN, terdeteksi beberapa area stres signifikan.\"\n",
        "elif persen_waspada > 50:\n",
        "    kesimpulan = \"Kondisi lahan secara umum CUKUP BAIK, namun mayoritas berada dalam kondisi waspada dan berisiko stres.\"\n",
        "elif persen_sehat > 75:\n",
        "    kesimpulan = \"Kondisi lahan secara umum SANGAT BAIK, mayoritas tanaman terdeteksi sehat.\"\n",
        "else:\n",
        "    kesimpulan = \"Kondisi lahan secara umum BAIK dengan variasi tingkat kesehatan yang normal.\"\n",
        "\n",
        "print(f\"Persentase Area Stres (Merah):   {persen_stres:.2f}%\")\n",
        "print(f\"Persentase Area Waspada (Kuning): {persen_waspada:.2f}%\")\n",
        "print(f\"Persentase Area Sehat (Hijau):    {persen_sehat:.2f}%\")\n",
        "\n",
        "print(f\"KESIMPULAN: {kesimpulan}\")"
      ],
      "metadata": {
        "colab": {
          "base_uri": "https://localhost:8080/"
        },
        "id": "wQmsLQb2k0dl",
        "outputId": "c32e52c6-c45d-400a-f3ed-e8a31f103c2a"
      },
      "execution_count": null,
      "outputs": [
        {
          "output_type": "stream",
          "name": "stdout",
          "text": [
            "Persentase Area Stres (Merah):   51.92%\n",
            "Persentase Area Waspada (Kuning): 48.07%\n",
            "Persentase Area Sehat (Hijau):    0.01%\n",
            "KESIMPULAN: Kondisi lahan secara umum KRITIS, sebagian besar area terindikasi stres berat dan perlu penanganan segera.\n"
          ]
        }
      ]
    }
  ]
}